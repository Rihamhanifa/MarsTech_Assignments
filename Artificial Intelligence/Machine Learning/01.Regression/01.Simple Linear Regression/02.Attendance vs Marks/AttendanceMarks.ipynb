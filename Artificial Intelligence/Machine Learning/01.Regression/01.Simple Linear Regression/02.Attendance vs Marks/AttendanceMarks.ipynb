#import libraries
import pandas as pd
from sklearn.model_selection import train_test_split
from sklearn.linear_model import LinearRegression
from sklearn.metrics import r2_score

# Load data
dataset = pd.read_csv("AttendanceMarks.csv")
dataset
# Drop rows with missing values
dataset.dropna(inplace=True)
#Splitting Data into Independent (X) and Dependent (Y) Variables
independent = dataset[["Attendance"]] #split input 
dependent = dataset [["ESE"]] #Split output 
#Splitting Data into Training & Testing Sets
x_train,x_test,y_train,y_test = train_test_split(independent, dependent, test_size=0.20, random_state=0) #split train and test 
regressor = LinearRegression() # Creates a Linear Regression model
regressor.fit (x_train,y_train) # Trains the model on training data
weight = regressor.coef_ # Slope (m) in y = mx + c
bais = regressor.intercept_ # Intercept (c) in y = mx + c
y_pred= regressor.predict(x_test)  # Predict on test data
r_score = r2_score(y_test,y_pred) # Compares actual vs predicted 
print(f"R² Score: {r_score:.2f}")  # Example output: R² Score: 0.12 (weak relationship)

