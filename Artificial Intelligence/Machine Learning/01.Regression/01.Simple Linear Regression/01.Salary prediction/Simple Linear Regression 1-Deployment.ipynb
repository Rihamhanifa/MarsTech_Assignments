{
 "cells": [
  {
   "cell_type": "code",
   "execution_count": 1,
   "id": "cc24362b-27df-4a90-bd7a-636b0be94f61",
   "metadata": {},
   "outputs": [],
   "source": [
    "import pickle \n",
    "loaded_model = pickle.load (open(\"finalized_model_linear.sav\",'rb'))"
   ]
  },
  {
   "cell_type": "code",
   "execution_count": 3,
   "id": "ee647d5d-dff4-4d50-a2ea-4e8554f9576c",
   "metadata": {},
   "outputs": [
    {
     "name": "stderr",
     "output_type": "stream",
     "text": [
      "C:\\Anaconda\\Lib\\site-packages\\sklearn\\base.py:493: UserWarning: X does not have valid feature names, but LinearRegression was fitted with feature names\n",
      "  warnings.warn(\n"
     ]
    }
   ],
   "source": [
    "result = loaded_model.predict([[15]])"
   ]
  },
  {
   "cell_type": "code",
   "execution_count": 4,
   "id": "caf744da-17b5-4af0-a1d7-42c20a584795",
   "metadata": {},
   "outputs": [
    {
     "data": {
      "text/plain": [
       "array([[166436.36040533]])"
      ]
     },
     "execution_count": 4,
     "metadata": {},
     "output_type": "execute_result"
    }
   ],
   "source": [
    "result"
   ]
  },
  {
   "cell_type": "code",
   "execution_count": null,
   "id": "2ae105d5-6b95-4975-9256-b8b2bec5081b",
   "metadata": {},
   "outputs": [],
   "source": []
  }
 ],
 "metadata": {
  "kernelspec": {
   "display_name": "Python 3 (ipykernel)",
   "language": "python",
   "name": "python3"
  },
  "language_info": {
   "codemirror_mode": {
    "name": "ipython",
    "version": 3
   },
   "file_extension": ".py",
   "mimetype": "text/x-python",
   "name": "python",
   "nbconvert_exporter": "python",
   "pygments_lexer": "ipython3",
   "version": "3.12.7"
  }
 },
 "nbformat": 4,
 "nbformat_minor": 5
}
