{
 "cells": [
  {
   "cell_type": "code",
   "execution_count": 9,
   "id": "1d53b5b3-f53c-47d8-b7ab-28566d8873e2",
   "metadata": {},
   "outputs": [
    {
     "name": "stdout",
     "output_type": "stream",
     "text": [
      "Mars Tech\n"
     ]
    }
   ],
   "source": [
    "#print Statemnet\n",
    "print (\"Mars Tech\")\n"
   ]
  },
  {
   "cell_type": "code",
   "execution_count": 10,
   "id": "1b045264-e03f-4a53-a020-b1a704e22632",
   "metadata": {},
   "outputs": [
    {
     "name": "stdin",
     "output_type": "stream",
     "text": [
      "Enter Your Institute Name ? :  Mars Tech\n"
     ]
    }
   ],
   "source": [
    "#Buy Input\n",
    "buy_Input = input (\"Enter Your Institute Name ? : \")"
   ]
  },
  {
   "cell_type": "code",
   "execution_count": 11,
   "id": "de2bd2e6-830c-450a-b203-8308085d6707",
   "metadata": {},
   "outputs": [
    {
     "name": "stdin",
     "output_type": "stream",
     "text": [
      "Enter your name: Raj\n",
      "Enter your age: 15\n",
      "Enter your school name: Guru school\n",
      "Enter your Degree: B.E.CSE\n"
     ]
    }
   ],
   "source": [
    "#Buy inputs\n",
    "name = input (\"Enter your name:\")\n",
    "age = int (input (\"Enter your age:\"))\n",
    "s_Name= input (\"Enter your school name:\")\n",
    "degree=input (\"Enter your Degree:\")\n"
   ]
  },
  {
   "cell_type": "code",
   "execution_count": 12,
   "id": "668fdfe1-2c66-42ba-a317-214ae9949066",
   "metadata": {},
   "outputs": [
    {
     "name": "stdout",
     "output_type": "stream",
     "text": [
      "a= 43\n",
      "b= 34\n",
      "add= 77\n"
     ]
    }
   ],
   "source": [
    "#addition\n",
    "a=43\n",
    "b=34\n",
    "add=a+b\n",
    "print (\"a=\",a)\n",
    "print (\"b=\",b)\n",
    "print (\"add=\",add)"
   ]
  },
  {
   "cell_type": "code",
   "execution_count": 13,
   "id": "da036a23-5c5b-4e4f-8fe9-2ba9adecdc7e",
   "metadata": {},
   "outputs": [
    {
     "name": "stdout",
     "output_type": "stream",
     "text": [
      "a= 43\n",
      "b= 34\n",
      "Sub= 9\n"
     ]
    }
   ],
   "source": [
    "#Subtraction\n",
    "sub=a-b\n",
    "print (\"a=\",a)\n",
    "print (\"b=\",b)\n",
    "print (\"Sub=\",sub)"
   ]
  },
  {
   "cell_type": "code",
   "execution_count": 14,
   "id": "718fc3a3-6024-4cbb-9bac-c2c24821e7e8",
   "metadata": {},
   "outputs": [
    {
     "name": "stdout",
     "output_type": "stream",
     "text": [
      "a= 63\n",
      "b= 97\n",
      "Mul= 6111\n"
     ]
    }
   ],
   "source": [
    "#Multiplication\n",
    "a=63\n",
    "b=97\n",
    "mul=a*b\n",
    "print (\"a=\",a)\n",
    "print (\"b=\",b)\n",
    "print (\"Mul=\",mul)"
   ]
  },
  {
   "cell_type": "code",
   "execution_count": 15,
   "id": "cc8f5294-7892-4caa-a905-48f25a51c0f3",
   "metadata": {},
   "outputs": [
    {
     "name": "stdout",
     "output_type": "stream",
     "text": [
      "a= 76\n",
      "b= 31\n",
      "Float Div= 2.4516129032258065\n"
     ]
    }
   ],
   "source": [
    "#Division\n",
    "a=76\n",
    "b=31\n",
    "float_Div=a/b\n",
    "print (\"a=\",a)\n",
    "print (\"b=\",b)\n",
    "print (\"Float Div=\",float_Div)"
   ]
  },
  {
   "cell_type": "code",
   "execution_count": 16,
   "id": "772f9046-e32b-4be4-a409-c851412ebe29",
   "metadata": {},
   "outputs": [
    {
     "name": "stdout",
     "output_type": "stream",
     "text": [
      "a= 76\n",
      "b= 31\n",
      "Floor Div= 2\n"
     ]
    }
   ],
   "source": [
    "#Floor Division\n",
    "a=76\n",
    "b=31\n",
    "floor_Div=a//b\n",
    "print (\"a=\",a)\n",
    "print (\"b=\",b)\n",
    "print (\"Floor Div=\",floor_Div)"
   ]
  },
  {
   "cell_type": "code",
   "execution_count": 17,
   "id": "ad307eb6-3bf3-45da-a4d8-62f21e1958a4",
   "metadata": {},
   "outputs": [
    {
     "name": "stdout",
     "output_type": "stream",
     "text": [
      "a= 76\n",
      "b= 31\n",
      "Modulo= 14\n"
     ]
    }
   ],
   "source": [
    "#Modulo\n",
    "print (\"a=\",a)\n",
    "print (\"b=\",b)\n",
    "print (\"Modulo=\",a%b)"
   ]
  },
  {
   "cell_type": "code",
   "execution_count": 18,
   "id": "8f78a767-d0b5-47d1-889a-9378f150b97f",
   "metadata": {},
   "outputs": [
    {
     "name": "stdout",
     "output_type": "stream",
     "text": [
      "a= 4\n",
      "b= 4\n",
      "Power= 256\n"
     ]
    }
   ],
   "source": [
    "#Power\n",
    "a=4\n",
    "b=4\n",
    "print (\"a=\",a)\n",
    "print (\"b=\",b)\n",
    "print (\"Power=\",a**b)\n"
   ]
  }
 ],
 "metadata": {
  "kernelspec": {
   "display_name": "Python 3 (ipykernel)",
   "language": "python",
   "name": "python3"
  },
  "language_info": {
   "codemirror_mode": {
    "name": "ipython",
    "version": 3
   },
   "file_extension": ".py",
   "mimetype": "text/x-python",
   "name": "python",
   "nbconvert_exporter": "python",
   "pygments_lexer": "ipython3",
   "version": "3.12.7"
  }
 },
 "nbformat": 4,
 "nbformat_minor": 5
}
