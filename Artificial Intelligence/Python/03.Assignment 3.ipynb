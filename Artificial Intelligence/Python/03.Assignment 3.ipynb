{
 "cells": [
  {
   "cell_type": "code",
   "execution_count": 3,
   "id": "5c735ca8-7fa0-418e-9e10-040ba225c5e3",
   "metadata": {},
   "outputs": [
    {
     "name": "stdout",
     "output_type": "stream",
     "text": [
      "0\n",
      "1\n",
      "2\n",
      "3\n",
      "4\n",
      "5\n",
      "6\n",
      "7\n",
      "8\n",
      "9\n",
      "10\n",
      "11\n",
      "12\n",
      "13\n",
      "14\n",
      "15\n",
      "16\n",
      "17\n",
      "18\n",
      "19\n"
     ]
    }
   ],
   "source": [
    "# print 0 to 20 by using range\n",
    "for n in range(20):\n",
    "    print (n)"
   ]
  },
  {
   "cell_type": "code",
   "execution_count": 8,
   "id": "284d8939-e59a-41d6-a40a-cf4f4b61492a",
   "metadata": {},
   "outputs": [
    {
     "name": "stdout",
     "output_type": "stream",
     "text": [
      "10 11 12 13 14 15 16 17 18 19 "
     ]
    }
   ],
   "source": [
    "# print range 10 to 20\n",
    "for n in range (10,20):\n",
    "    print (n, end=' ')"
   ]
  },
  {
   "cell_type": "code",
   "execution_count": 13,
   "id": "cb7af7d4-e598-473d-8ad1-79b24dd77c36",
   "metadata": {},
   "outputs": [
    {
     "name": "stdout",
     "output_type": "stream",
     "text": [
      "Number of item in the List2: 7\n"
     ]
    }
   ],
   "source": [
    "# print number of items in the list by using ‘len’\n",
    "List2 = [10,20,14,55,43,87,76]\n",
    "print (\"Number of item in the List2:\",len(List2))"
   ]
  },
  {
   "cell_type": "code",
   "execution_count": 18,
   "id": "ea8159f8-50d7-4d4c-82b7-61a2abbcc555",
   "metadata": {},
   "outputs": [
    {
     "name": "stdout",
     "output_type": "stream",
     "text": [
      "Artificial Intelligence\n",
      "A\n",
      "r\n",
      "t\n",
      "i\n",
      "f\n",
      "i\n",
      "c\n",
      "i\n",
      "a\n",
      "l\n",
      " \n",
      "I\n",
      "n\n",
      "t\n",
      "e\n",
      "l\n",
      "l\n",
      "i\n",
      "g\n",
      "e\n",
      "n\n",
      "c\n",
      "e\n"
     ]
    }
   ],
   "source": [
    "A=\"Artificial Intelligence\"\n",
    "print(A)\n",
    "for B in A:\n",
    "    print (B)"
   ]
  },
  {
   "cell_type": "code",
   "execution_count": 22,
   "id": "c6584170-71b7-4fcd-9812-db82efd08846",
   "metadata": {},
   "outputs": [
    {
     "name": "stdout",
     "output_type": "stream",
     "text": [
      "-Your Name-\n",
      "-Your Profession-\n",
      "-Your Profession-\n"
     ]
    }
   ],
   "source": [
    "print(\"-Your Name-\\n-Your Profession-\\n-Your Profession-\")\n"
   ]
  },
  {
   "cell_type": "code",
   "execution_count": 26,
   "id": "3e175083-2ca0-4fd3-8681-88ffdfed489a",
   "metadata": {},
   "outputs": [
    {
     "name": "stdout",
     "output_type": "stream",
     "text": [
      "(1, 'Welcome', 2, 'mars tech')\n"
     ]
    }
   ],
   "source": [
    "mix = (1, 'Welcome' , 2, 'mars tech')\n",
    "print (mix)"
   ]
  },
  {
   "cell_type": "code",
   "execution_count": 1,
   "id": "b79bfdd3-c014-4507-961b-dcbd63f2eb73",
   "metadata": {},
   "outputs": [
    {
     "name": "stdout",
     "output_type": "stream",
     "text": [
      "((0, 1, 2, 3), ('Python', 'Mars Tech'))\n"
     ]
    }
   ],
   "source": [
    "Tuple1 = (0,1,2,3) \n",
    "Tuple2 = (\"Python\",\"Mars Tech\")\n",
    "Tuple3 = (Tuple1,Tuple2)\n",
    "print (Tuple3)"
   ]
  },
  {
   "cell_type": "code",
   "execution_count": 9,
   "id": "623f4b6f-26b6-49dc-a3bc-62971c84277d",
   "metadata": {},
   "outputs": [
    {
     "name": "stdout",
     "output_type": "stream",
     "text": [
      "19 is odd\n",
      "25 is odd\n",
      "1 is odd\n"
     ]
    }
   ],
   "source": [
    "# print Odd Numbers in the list\n",
    "listt=[20,10,16,19,25,1,276,188]\n",
    "for x in listt:\n",
    "    if (x%2!=0):\n",
    "        print(x,\"is odd\")\n",
    "   "
   ]
  },
  {
   "cell_type": "code",
   "execution_count": 10,
   "id": "37b4d284-6ee2-4656-8021-efe68f86192a",
   "metadata": {},
   "outputs": [
    {
     "name": "stdout",
     "output_type": "stream",
     "text": [
      "20 is even\n",
      "10 is even\n",
      "16 is even\n",
      "276 is even\n",
      "188 is even\n"
     ]
    }
   ],
   "source": [
    "# print Even numbers in the list\n",
    "for x in listt :\n",
    "    if (x%2 == 0):\n",
    "        print (x,\"is even\")"
   ]
  }
 ],
 "metadata": {
  "kernelspec": {
   "display_name": "Python 3 (ipykernel)",
   "language": "python",
   "name": "python3"
  },
  "language_info": {
   "codemirror_mode": {
    "name": "ipython",
    "version": 3
   },
   "file_extension": ".py",
   "mimetype": "text/x-python",
   "name": "python",
   "nbconvert_exporter": "python",
   "pygments_lexer": "ipython3",
   "version": "3.12.7"
  }
 },
 "nbformat": 4,
 "nbformat_minor": 5
}
