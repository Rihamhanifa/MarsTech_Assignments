{
 "cells": [
  {
   "cell_type": "code",
   "execution_count": 3,
   "id": "030489a4-b5f8-418e-b971-a8c21ab8ab7a",
   "metadata": {},
   "outputs": [
    {
     "name": "stdin",
     "output_type": "stream",
     "text": [
      "Value: 10\n"
     ]
    },
    {
     "name": "stdout",
     "output_type": "stream",
     "text": [
      "CORRECT\n"
     ]
    }
   ],
   "source": [
    "# print ‘CORRECT’ if i == 10\n",
    "i=int(input (\"Value:\"))\n",
    "if (i == 10):\n",
    "    print (\"CORRECT\")"
   ]
  },
  {
   "cell_type": "code",
   "execution_count": 6,
   "id": "55d05596-8f6f-45da-96aa-afb4c244ea96",
   "metadata": {},
   "outputs": [
    {
     "name": "stdin",
     "output_type": "stream",
     "text": [
      "Enter the password: marstech@123\n"
     ]
    },
    {
     "name": "stdout",
     "output_type": "stream",
     "text": [
      "Your password is correct\n"
     ]
    }
   ],
   "source": [
    "# Check the password, using if and else\n",
    "password = \"marstech@123\"\n",
    "x=input(\"Enter the password:\")\n",
    "if (x==password):\n",
    "    print (\"Your password is correct\")"
   ]
  },
  {
   "cell_type": "code",
   "execution_count": 11,
   "id": "d27ae7b0-8673-4429-a2f5-5506be11908f",
   "metadata": {},
   "outputs": [
    {
     "name": "stdin",
     "output_type": "stream",
     "text": [
      "Age: 20\n"
     ]
    },
    {
     "name": "stdout",
     "output_type": "stream",
     "text": [
      "Adult\n"
     ]
    }
   ],
   "source": [
    "# Catagory the people by their age like children, adult, citizen, senior citizen...\n",
    "age = int (input (\"Age:\"))\n",
    "\n",
    "if(age<18):\n",
    "    print(\"Children\")\n",
    "elif(35>= age >=18):\n",
    "    print (\"Adult\")\n",
    "elif (45>= age >=35):\n",
    "    print (\"Citizen\")\n",
    "else:\n",
    "    print(\"Senior Citizen\")"
   ]
  },
  {
   "cell_type": "code",
   "execution_count": 16,
   "id": "6a2df5ad-0a6e-45fa-b119-871c75603aac",
   "metadata": {},
   "outputs": [
    {
     "name": "stdin",
     "output_type": "stream",
     "text": [
      "Enter Number: 1\n"
     ]
    },
    {
     "name": "stdout",
     "output_type": "stream",
     "text": [
      "Number is Positive\n"
     ]
    }
   ],
   "source": [
    "# Find whether given number is positive or negative\n",
    "no = int (input (\"Enter Number:\"))\n",
    "if (no>0):\n",
    "    print (\"Number is Positive\")\n",
    "else :\n",
    "    print (\"Number is Negative\")"
   ]
  },
  {
   "cell_type": "code",
   "execution_count": 21,
   "id": "1ed87f04-e948-452d-b18a-77d3ab98ca73",
   "metadata": {},
   "outputs": [
    {
     "name": "stdin",
     "output_type": "stream",
     "text": [
      "Enter a number to check: 22\n"
     ]
    },
    {
     "name": "stdout",
     "output_type": "stream",
     "text": [
      "Number is not divisible by 5\n"
     ]
    }
   ],
   "source": [
    "# Check whether the given number is divisible by 5\n",
    "\n",
    "no = int (input (\"Enter a number to check:\"))\n",
    "\n",
    "if (no%5 == 0):\n",
    "    print (\"Number is divisible by 5\")\n",
    "else :\n",
    "    print (\"Number is not divisible by 5\")"
   ]
  },
  {
   "cell_type": "code",
   "execution_count": null,
   "id": "15855a70-abf3-4ae7-bfb0-27976df07d2c",
   "metadata": {},
   "outputs": [],
   "source": []
  }
 ],
 "metadata": {
  "kernelspec": {
   "display_name": "Python 3 (ipykernel)",
   "language": "python",
   "name": "python3"
  },
  "language_info": {
   "codemirror_mode": {
    "name": "ipython",
    "version": 3
   },
   "file_extension": ".py",
   "mimetype": "text/x-python",
   "name": "python",
   "nbconvert_exporter": "python",
   "pygments_lexer": "ipython3",
   "version": "3.12.7"
  }
 },
 "nbformat": 4,
 "nbformat_minor": 5
}
