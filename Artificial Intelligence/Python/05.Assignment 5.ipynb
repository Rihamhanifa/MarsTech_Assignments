{
 "cells": [
  {
   "cell_type": "code",
   "execution_count": 5,
   "id": "8a86fa44-2410-43ac-9fbc-ebb23b48eebe",
   "metadata": {},
   "outputs": [
    {
     "name": "stdout",
     "output_type": "stream",
     "text": [
      "Sub-fields in Al are:\n",
      "Machine Learning\n",
      "Neural Networks\n",
      "Vision\n",
      "Robotics\n",
      "Speech Processing\n",
      "Natural Language Processing\n"
     ]
    }
   ],
   "source": [
    "# Create a class and function, and list out the items in the list\n",
    "class SubfieldsInAI ():\n",
    "    def Subfields ():\n",
    "        list = [\"Machine Learning\",\"Neural Networks\",\"Vision\",\"Robotics\",\"Speech Processing\",\"Natural Language Processing\"]\n",
    "        print (\"Sub-fields in Al are:\")\n",
    "        for i in list :\n",
    "            print (i)\n",
    "\n",
    "SubfieldsInAI.Subfields()\n"
   ]
  },
  {
   "cell_type": "code",
   "execution_count": 15,
   "id": "cb830a57-3964-4060-9c38-1e7bc18a2336",
   "metadata": {},
   "outputs": [
    {
     "name": "stdin",
     "output_type": "stream",
     "text": [
      "Enter Your Number 52452\n"
     ]
    },
    {
     "name": "stdout",
     "output_type": "stream",
     "text": [
      "52452 is Even number\n"
     ]
    }
   ],
   "source": [
    "# Create a function that checks whether the given number is Odd or Even\n",
    "class OddEven ():\n",
    "    def OddEven ():\n",
    "        a = int (input (\"Enter Your Number\"))\n",
    "        if (a%2==0):\n",
    "            print(a,\"is Even number\")\n",
    "        else :\n",
    "            print (a,\"is odd number\")\n",
    "\n",
    "\n",
    "OddEven.OddEven()\n",
    "\n",
    "        "
   ]
  },
  {
   "cell_type": "code",
   "execution_count": 11,
   "id": "85d68432-462a-4a68-bee8-40bcce025110",
   "metadata": {},
   "outputs": [
    {
     "name": "stdin",
     "output_type": "stream",
     "text": [
      "Your Gender (Male or Female): Male\n",
      "Enter Your Age: 20\n"
     ]
    },
    {
     "name": "stdout",
     "output_type": "stream",
     "text": [
      "NOT ELIGIBLE\n"
     ]
    }
   ],
   "source": [
    "## Create a function that tells elegibility of marriage for male and female according to their age limit like 21 for male and in for female\n",
    "class ElegiblityForMarriage ():\n",
    "    def Elegible ():\n",
    "        gender = input (\"Your Gender (Male or Female):\")\n",
    "        if (gender == \"Male\"):\n",
    "            age = int (input(\"Enter Your Age:\"))\n",
    "            if (age< 21):\n",
    "                print (\"NOT ELIGIBLE\")\n",
    "            else :\n",
    "                    print (\"ELIGIBLE\")\n",
    "                \n",
    "        elif (gender == \"Female\"):\n",
    "            age = int (input(\"Enter Your Age:\"))\n",
    "            if (age< 18):\n",
    "                print (\"NOT ELIGIBLE\")\n",
    "            else :\n",
    "                print (\"ELIGIBLE\")  \n",
    "        else :\n",
    "            print (\"Please Enter 'Male' or 'Female'\")\n",
    "            \n",
    "ElegiblityForMarriage.Elegible()\n",
    "\n",
    "                        \n",
    "        "
   ]
  },
  {
   "cell_type": "code",
   "execution_count": 15,
   "id": "485c09ef-c0db-4eeb-86b3-d6ef7f3b14ca",
   "metadata": {},
   "outputs": [
    {
     "name": "stdin",
     "output_type": "stream",
     "text": [
      "subject1= 98\n",
      "subject2= 87\n",
      "subject3= 95\n",
      "subject4= 95\n",
      "subject5= 93\n"
     ]
    },
    {
     "name": "stdout",
     "output_type": "stream",
     "text": [
      "\n",
      "Total = 468\n",
      "\n",
      "Percentage = 93.60000000000001\n"
     ]
    }
   ],
   "source": [
    "# calculate the percentage of your marks\n",
    "class FindPercent():\n",
    "    def percentage ():\n",
    "        s1 =int (input (\"subject1=\"))\n",
    "        s2 =int (input (\"subject2=\"))\n",
    "        s3 =int (input (\"subject3=\"))\n",
    "        s4 =int (input (\"subject4=\"))\n",
    "        s5 =int (input (\"subject5=\"))\n",
    "\n",
    "        total = s1+s2+s3+s4+s5\n",
    "        print (\"\\nTotal =\",total)\n",
    "        percentage = total/500*100\n",
    "        print (\"\\nPercentage =\",percentage)\n",
    "\n",
    "FindPercent.percentage()\n"
   ]
  },
  {
   "cell_type": "code",
   "execution_count": 18,
   "id": "4b9b2384-c67d-4d64-b0a6-da79bc93ac31",
   "metadata": {},
   "outputs": [
    {
     "name": "stdin",
     "output_type": "stream",
     "text": [
      "Height: 32\n",
      "Breadth: 34\n"
     ]
    },
    {
     "name": "stdout",
     "output_type": "stream",
     "text": [
      "\n",
      "Area formula: (Height* Breadth)/2\n",
      "\n",
      "Area Of Triangle: 544.0\n"
     ]
    },
    {
     "name": "stdin",
     "output_type": "stream",
     "text": [
      "Height1: 2\n",
      "Height2: 4\n",
      "Breadth: 4\n"
     ]
    },
    {
     "name": "stdout",
     "output_type": "stream",
     "text": [
      "\n",
      "Perimeter formula: Height1+Height2+Breadth\n",
      "\n",
      "Perimeter of Triangle: 10.0\n"
     ]
    }
   ],
   "source": [
    "# print area and perimeter of triangle using class and functions\n",
    "class triangle():\n",
    "    def triangle():\n",
    "        height = float (input (\"Height:\"))\n",
    "        breadth = float (input (\"Breadth:\"))\n",
    "        print (\"\\nArea formula: (Height* Breadth)/2\")\n",
    "        areaOfTriangle = (height*breadth)/2\n",
    "        print (\"\\nArea Of Triangle:\",areaOfTriangle)\n",
    "        height1= float (input (\"Height1:\"))      \n",
    "        height2= float (input (\"Height2:\"))        \n",
    "        breadth = float (input (\"Breadth:\"))      \n",
    "        print (\"\\nPerimeter formula: Height1+Height2+Breadth\")\n",
    "        PerimeterOfTriangle =height1+height2+breadth\n",
    "        print (\"\\nPerimeter of Triangle:\",PerimeterOfTriangle)\n",
    "        \n",
    "triangle.triangle()        \n",
    "        "
   ]
  },
  {
   "cell_type": "code",
   "execution_count": null,
   "id": "ae8e08aa-5f9f-4549-86c3-ebb67c59e620",
   "metadata": {},
   "outputs": [],
   "source": []
  }
 ],
 "metadata": {
  "kernelspec": {
   "display_name": "Python 3 (ipykernel)",
   "language": "python",
   "name": "python3"
  },
  "language_info": {
   "codemirror_mode": {
    "name": "ipython",
    "version": 3
   },
   "file_extension": ".py",
   "mimetype": "text/x-python",
   "name": "python",
   "nbconvert_exporter": "python",
   "pygments_lexer": "ipython3",
   "version": "3.12.7"
  }
 },
 "nbformat": 4,
 "nbformat_minor": 5
}
