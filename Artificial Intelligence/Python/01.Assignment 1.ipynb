{
 "cells": [
  {
   "cell_type": "code",
   "execution_count": 1,
   "id": "a9b30a07-c968-4c02-8a18-ec07554f3471",
   "metadata": {},
   "outputs": [
    {
     "name": "stdout",
     "output_type": "stream",
     "text": [
      "Welcome to Assignment-1\n"
     ]
    }
   ],
   "source": [
    "print (\"Welcome to Assignment-1\")"
   ]
  },
  {
   "cell_type": "code",
   "execution_count": 4,
   "id": "fbc73b32-a2e3-41a9-9f7a-f3e2ee952ade",
   "metadata": {},
   "outputs": [
    {
     "name": "stdout",
     "output_type": "stream",
     "text": [
      "Num1=  10\n",
      "Num2=  30\n",
      "Add=  40\n"
     ]
    }
   ],
   "source": [
    "Num1 = 10\n",
    "Num2 = 30\n",
    "Add = Num1+Num2\n",
    "print (\"Num1= \",Num1)\n",
    "print (\"Num2= \",Num2)\n",
    "print (\"Add= \",Add)\n"
   ]
  },
  {
   "cell_type": "code",
   "execution_count": null,
   "id": "497457db-db2f-40e8-b2da-3b7c7323aa6a",
   "metadata": {},
   "outputs": [],
   "source": []
  },
  {
   "cell_type": "code",
   "execution_count": 1,
   "id": "b514b153-d170-4189-94f2-bdf62f6c750a",
   "metadata": {},
   "outputs": [
    {
     "name": "stdin",
     "output_type": "stream",
     "text": [
      "Enter The BMI index : 34\n"
     ]
    },
    {
     "name": "stdout",
     "output_type": "stream",
     "text": [
      "Very Over Weight\n"
     ]
    }
   ],
   "source": [
    "BMI= int (input (\"Enter The BMI index :\"))\n",
    "if (BMI<18.5):\n",
    "    print(\"Under Weight\")\n",
    "elif (BMI>=18.5 and BMI<=24.9):\n",
    "    print (\"Normal\")\n",
    "elif (BMI>=25 and BMI<=29.9):\n",
    "    print (\"Over weight\")\n",
    "elif (BMI>=30 and BMI<=34.9):\n",
    "    print(\"Very Over Weight\")\n",
    "elif (BMI>=35 and BMI<=39.9):\n",
    "    print(\"Severel Obese\")\n",
    "else :\n",
    "    print (\"Morbidly Obese\")\n",
    "\n"
   ]
  },
  {
   "cell_type": "code",
   "execution_count": null,
   "id": "c97dbe29-624e-44bd-8690-711abaa8a0c1",
   "metadata": {},
   "outputs": [],
   "source": []
  }
 ],
 "metadata": {
  "kernelspec": {
   "display_name": "Python 3 (ipykernel)",
   "language": "python",
   "name": "python3"
  },
  "language_info": {
   "codemirror_mode": {
    "name": "ipython",
    "version": 3
   },
   "file_extension": ".py",
   "mimetype": "text/x-python",
   "name": "python",
   "nbconvert_exporter": "python",
   "pygments_lexer": "ipython3",
   "version": "3.12.7"
  }
 },
 "nbformat": 4,
 "nbformat_minor": 5
}
